{
 "cells": [
  {
   "cell_type": "code",
   "execution_count": 1,
   "metadata": {},
   "outputs": [],
   "source": [
    "from Bio import SeqIO\n",
    "from collections import Counter"
   ]
  },
  {
   "cell_type": "code",
   "execution_count": 4,
   "metadata": {},
   "outputs": [
    {
     "name": "stdout",
     "output_type": "stream",
     "text": [
      "187\n",
      "468\n",
      "234\n"
     ]
    }
   ],
   "source": [
    "header_one = []\n",
    "for record in SeqIO.parse(\"7_clone_size-30_unaligned.fasta\", \"fasta\"):\n",
    "    header_one.append(record.id)\n",
    "    #print(record.id)\n",
    "    \n",
    "print(len(header_one))\n",
    "\n",
    "header_two = []\n",
    "for record in SeqIO.parse(\"9_clone_size-30_unaligned.fasta\", \"fasta\"):\n",
    "    header_two.append(record.id)\n",
    "    #print(record.id)\n",
    "    \n",
    "print(len(header_two))\n",
    "\n",
    "header_three = []\n",
    "for record in SeqIO.parse(\"11_clone_size-30_unaligned.fasta\", \"fasta\"):\n",
    "    header_three.append(record.id)\n",
    "    #print(record.id)\n",
    "    \n",
    "print(len(header_three))"
   ]
  },
  {
   "cell_type": "markdown",
   "metadata": {},
   "source": [
    "##  1 (first visit)"
   ]
  },
  {
   "cell_type": "code",
   "execution_count": 5,
   "metadata": {},
   "outputs": [],
   "source": [
    "time_one = []\n",
    "size_one = []\n",
    "length_one = []\n",
    "aa_seq_one = []\n",
    "header_vdj_one = []\n",
    "for i in header_one:\n",
    "    time_one.append(int(i.split('_')[1].split('-')[1]))\n",
    "    size_one.append(i.split('_')[2].split('-')[1])\n",
    "    length_one.append(len(i.split('_')[3]))\n",
    "    aa_seq_one.append(i.split('_')[3])\n",
    "    header_vdj_one.append(i.split('_')[4])"
   ]
  },
  {
   "cell_type": "code",
   "execution_count": 6,
   "metadata": {},
   "outputs": [],
   "source": [
    "v_region_one = [] \n",
    "d_region_one = []\n",
    "j_region_one = []\n",
    "for i in header_vdj_one:\n",
    "    v_region_one.append(i.split(',')[0])\n",
    "    d_region_one.append(i.split(',')[1])\n",
    "    j_region_one.append(i.split(',')[2])"
   ]
  },
  {
   "cell_type": "code",
   "execution_count": 7,
   "metadata": {},
   "outputs": [
    {
     "name": "stdout",
     "output_type": "stream",
     "text": [
      "38\n"
     ]
    }
   ],
   "source": [
    "V_uni_one = Counter(v_region_one)\n",
    "print(len(V_uni_one))"
   ]
  },
  {
   "cell_type": "markdown",
   "metadata": {},
   "source": [
    "##  2 (second visit)"
   ]
  },
  {
   "cell_type": "code",
   "execution_count": 8,
   "metadata": {},
   "outputs": [],
   "source": [
    "time_two = []\n",
    "size_two= []\n",
    "length_two = []\n",
    "aa_seq_two = []\n",
    "header_vdj_two = []\n",
    "for i in header_two:\n",
    "    time_two.append(int(i.split('_')[1].split('-')[1]))\n",
    "    size_two.append(i.split('_')[2].split('-')[1])\n",
    "    length_two.append(len(i.split('_')[3]))\n",
    "    aa_seq_two.append(i.split('_')[3])\n",
    "    header_vdj_two.append(i.split('_')[4])"
   ]
  },
  {
   "cell_type": "code",
   "execution_count": 9,
   "metadata": {},
   "outputs": [],
   "source": [
    "v_region_two = [] \n",
    "d_region_two = []\n",
    "j_region_two = []\n",
    "for i in header_vdj_two:\n",
    "    v_region_two.append(i.split(',')[0])\n",
    "    d_region_two.append(i.split(',')[1])\n",
    "    j_region_two.append(i.split(',')[2])"
   ]
  },
  {
   "cell_type": "code",
   "execution_count": 10,
   "metadata": {},
   "outputs": [
    {
     "name": "stdout",
     "output_type": "stream",
     "text": [
      "53\n"
     ]
    }
   ],
   "source": [
    "V_uni_two = Counter(v_region_two)\n",
    "print(len(V_uni_two))"
   ]
  },
  {
   "cell_type": "markdown",
   "metadata": {},
   "source": [
    "## 3 (third visit)"
   ]
  },
  {
   "cell_type": "code",
   "execution_count": 11,
   "metadata": {},
   "outputs": [],
   "source": [
    "time_three = []\n",
    "size_three= []\n",
    "length_three = []\n",
    "aa_seq_three = []\n",
    "header_vdj_three = []\n",
    "for i in header_three:\n",
    "    time_three.append(int(i.split('_')[1].split('-')[1]))\n",
    "    size_three.append(i.split('_')[2].split('-')[1])\n",
    "    length_three.append(len(i.split('_')[3]))\n",
    "    aa_seq_three.append(i.split('_')[3])\n",
    "    header_vdj_three.append(i.split('_')[4])"
   ]
  },
  {
   "cell_type": "code",
   "execution_count": 12,
   "metadata": {},
   "outputs": [],
   "source": [
    "v_region_three = [] \n",
    "d_region_three = []\n",
    "j_region_three = []\n",
    "for i in header_vdj_three:\n",
    "    v_region_three.append(i.split(',')[0])\n",
    "    d_region_three.append(i.split(',')[1])\n",
    "    j_region_three.append(i.split(',')[2])"
   ]
  },
  {
   "cell_type": "code",
   "execution_count": 13,
   "metadata": {},
   "outputs": [
    {
     "name": "stdout",
     "output_type": "stream",
     "text": [
      "39\n"
     ]
    }
   ],
   "source": [
    "V_uni_three = Counter(v_region_three)\n",
    "print(len(V_uni_three))"
   ]
  },
  {
   "cell_type": "code",
   "execution_count": null,
   "metadata": {},
   "outputs": [],
   "source": []
  }
 ],
 "metadata": {
  "kernelspec": {
   "display_name": "Python 3",
   "language": "python",
   "name": "python3"
  },
  "language_info": {
   "codemirror_mode": {
    "name": "ipython",
    "version": 3
   },
   "file_extension": ".py",
   "mimetype": "text/x-python",
   "name": "python",
   "nbconvert_exporter": "python",
   "pygments_lexer": "ipython3",
   "version": "3.6.5"
  }
 },
 "nbformat": 4,
 "nbformat_minor": 2
}
