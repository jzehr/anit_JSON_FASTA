{
 "cells": [
  {
   "cell_type": "markdown",
   "metadata": {},
   "source": [
    "# This script will read in the full_size-30 fasta from the no-replicates folder and then make a graph of the length of the CDR3, size of the clones and over the time points. It is important to remember for this dataset that EACH time point contains STAPH."
   ]
  },
  {
   "cell_type": "code",
   "execution_count": 24,
   "metadata": {},
   "outputs": [],
   "source": [
    "from Bio import SeqIO\n",
    "from collections import Counter"
   ]
  },
  {
   "cell_type": "code",
   "execution_count": 44,
   "metadata": {},
   "outputs": [
    {
     "name": "stdout",
     "output_type": "stream",
     "text": [
      "187\n",
      "468\n",
      "234\n"
     ]
    }
   ],
   "source": [
    "header_master = []\n",
    "for record in SeqIO.parse('full_size-30_unaligned.fasta','fasta'):\n",
    "    header_master.append(record.id)\n",
    "    \n",
    "header_one = []\n",
    "for record in SeqIO.parse(\"7_clone_size-30_unaligned.fasta\", \"fasta\"):\n",
    "    header_one.append(record.id)\n",
    "    #print(record.id)\n",
    "    \n",
    "print(len(header_one))\n",
    "\n",
    "header_two = []\n",
    "for record in SeqIO.parse(\"9_clone_size-30_unaligned.fasta\", \"fasta\"):\n",
    "    header_two.append(record.id)\n",
    "    #print(record.id)\n",
    "    \n",
    "print(len(header_two))\n",
    "\n",
    "header_three = []\n",
    "for record in SeqIO.parse(\"11_clone_size-30_unaligned.fasta\", \"fasta\"):\n",
    "    header_three.append(record.id)\n",
    "    #print(record.id)\n",
    "    \n",
    "print(len(header_three))"
   ]
  },
  {
   "cell_type": "code",
   "execution_count": 50,
   "metadata": {},
   "outputs": [
    {
     "data": {
      "text/plain": [
       "['seq10_time-11_size-37_ARGYCNGGSCYQND_V3,J1*01,CG3*17_219293',\n",
       " 'seq15_time-11_size-50_AKEGRVQRWHFD_V3,J2*01,CG3*17_290338',\n",
       " 'seq33_time-11_size-38_ARDSGTCPNFNCHHFD_V3,J4*02,CG3*17_247604',\n",
       " 'seq37_time-11_size-86_TTYRGASNFD_V3,J4*02,CG3*17_218714',\n",
       " 'seq42_time-11_size-94_TRDPHALD_V3,J4*02,CG3*17_253898',\n",
       " 'seq61_time-11_size-94_ARAYSASWYAG_V3,J4*02,CG3*17_228732',\n",
       " 'seq84_time-11_size-248_ARDRAFSRYD_V3,J5*01,CG3*17_228981',\n",
       " 'seq86_time-11_size-202_ARDRAFSRYD_V3,J5*01,CG3*17_289386',\n",
       " 'seq105_time-11_size-123_AKDLQQTAASWHSYYGMD_V3,J6*02,CG3*17_283728',\n",
       " 'seq116_time-11_size-117_VRDRGGWQLGVYHHYNGMD_V3,J6*02,CG3*17_247008']"
      ]
     },
     "execution_count": 50,
     "metadata": {},
     "output_type": "execute_result"
    }
   ],
   "source": [
    "header_master[0:10]"
   ]
  },
  {
   "cell_type": "markdown",
   "metadata": {},
   "source": [
    "### This grabs the total time"
   ]
  },
  {
   "cell_type": "code",
   "execution_count": 74,
   "metadata": {},
   "outputs": [],
   "source": [
    "time = []\n",
    "for i in header_master:\n",
    "    time.append(int(i.split('_')[1].split('-')[1]))"
   ]
  },
  {
   "cell_type": "code",
   "execution_count": 66,
   "metadata": {},
   "outputs": [],
   "source": [
    "#print(time)"
   ]
  },
  {
   "cell_type": "markdown",
   "metadata": {},
   "source": [
    "### This will grab the v_gene, and the v_full region"
   ]
  },
  {
   "cell_type": "code",
   "execution_count": 51,
   "metadata": {},
   "outputs": [],
   "source": [
    "vdj_region = []\n",
    "for i in header_master:\n",
    "    vdj_region.append(i.split('_')[4])\n",
    "\n",
    "v_region = []\n",
    "for i in vdj_region:\n",
    "    v_region.append(i.split(',')[0])\n",
    "\n",
    "v_gene = []\n",
    "for i in v_region:\n",
    "    if '*' in i:\n",
    "        v_gene.append(i.split('*')[0])\n",
    "    else:\n",
    "        v_gene.append(i)"
   ]
  },
  {
   "cell_type": "code",
   "execution_count": 54,
   "metadata": {},
   "outputs": [],
   "source": [
    "#v_region[0:10]\n",
    "#v_gene[0:100]"
   ]
  },
  {
   "cell_type": "markdown",
   "metadata": {},
   "source": [
    "## 1 full v"
   ]
  },
  {
   "cell_type": "code",
   "execution_count": 20,
   "metadata": {},
   "outputs": [],
   "source": [
    "time_one = []\n",
    "size_one = []\n",
    "length_one = []\n",
    "aa_seq_one = []\n",
    "header_vdj_one = []\n",
    "for i in header_one:\n",
    "    time_one.append(int(i.split('_')[1].split('-')[1]))\n",
    "    size_one.append(i.split('_')[2].split('-')[1])\n",
    "    length_one.append(len(i.split('_')[3]))\n",
    "    aa_seq_one.append(i.split('_')[3])\n",
    "    header_vdj_one.append(i.split('_')[4])"
   ]
  },
  {
   "cell_type": "code",
   "execution_count": 21,
   "metadata": {},
   "outputs": [],
   "source": [
    "v_region_one = [] \n",
    "d_region_one = []\n",
    "j_region_one = []\n",
    "for i in header_vdj_one:\n",
    "    v_region_one.append(i.split(',')[0])\n",
    "    d_region_one.append(i.split(',')[1])\n",
    "    j_region_one.append(i.split(',')[2])"
   ]
  },
  {
   "cell_type": "code",
   "execution_count": 22,
   "metadata": {},
   "outputs": [
    {
     "name": "stdout",
     "output_type": "stream",
     "text": [
      "187\n"
     ]
    }
   ],
   "source": [
    "v_gene_one = []\n",
    "for i in v_region_one:\n",
    "    if '*' in i:\n",
    "        v_gene_one.append(i.split('*')[0])\n",
    "    else:\n",
    "        v_gene_one.append(i)\n",
    "print(len(v_gene_one))"
   ]
  },
  {
   "cell_type": "code",
   "execution_count": 25,
   "metadata": {},
   "outputs": [
    {
     "name": "stdout",
     "output_type": "stream",
     "text": [
      "38\n",
      "20\n"
     ]
    }
   ],
   "source": [
    "V_uni_one = Counter(v_region_one)\n",
    "v_gene_uni_one = Counter(v_gene_one)\n",
    "print(len(V_uni_one))\n",
    "print(len(v_gene_uni_one))"
   ]
  },
  {
   "cell_type": "markdown",
   "metadata": {},
   "source": [
    "## 2"
   ]
  },
  {
   "cell_type": "code",
   "execution_count": 26,
   "metadata": {},
   "outputs": [],
   "source": [
    "time_two = []\n",
    "size_two= []\n",
    "length_two = []\n",
    "aa_seq_two = []\n",
    "header_vdj_two = []\n",
    "for i in header_two:\n",
    "    time_two.append(int(i.split('_')[1].split('-')[1]))\n",
    "    size_two.append(i.split('_')[2].split('-')[1])\n",
    "    length_two.append(len(i.split('_')[3]))\n",
    "    aa_seq_two.append(i.split('_')[3])\n",
    "    header_vdj_two.append(i.split('_')[4])"
   ]
  },
  {
   "cell_type": "code",
   "execution_count": 27,
   "metadata": {},
   "outputs": [],
   "source": [
    "v_region_two = [] \n",
    "d_region_two = []\n",
    "j_region_two = []\n",
    "for i in header_vdj_two:\n",
    "    v_region_two.append(i.split(',')[0])\n",
    "    d_region_two.append(i.split(',')[1])\n",
    "    j_region_two.append(i.split(',')[2])"
   ]
  },
  {
   "cell_type": "code",
   "execution_count": 28,
   "metadata": {},
   "outputs": [
    {
     "name": "stdout",
     "output_type": "stream",
     "text": [
      "468\n"
     ]
    }
   ],
   "source": [
    "v_gene_two = []\n",
    "for i in v_region_two:\n",
    "    if '*' in i:\n",
    "        v_gene_two.append(i.split('*')[0])\n",
    "    else:\n",
    "        v_gene_two.append(i)\n",
    "print(len(v_gene_two))"
   ]
  },
  {
   "cell_type": "code",
   "execution_count": 29,
   "metadata": {},
   "outputs": [
    {
     "name": "stdout",
     "output_type": "stream",
     "text": [
      "53\n",
      "24\n"
     ]
    }
   ],
   "source": [
    "V_uni_two = Counter(v_region_two)\n",
    "v_gene_uni_two = Counter(v_gene_two)\n",
    "print(len(V_uni_two))\n",
    "print(len(v_gene_uni_two))"
   ]
  },
  {
   "cell_type": "markdown",
   "metadata": {},
   "source": [
    "## 3"
   ]
  },
  {
   "cell_type": "code",
   "execution_count": 30,
   "metadata": {},
   "outputs": [],
   "source": [
    "time_three = []\n",
    "size_three= []\n",
    "length_three = []\n",
    "aa_seq_three = []\n",
    "header_vdj_three = []\n",
    "for i in header_three:\n",
    "    time_three.append(int(i.split('_')[1].split('-')[1]))\n",
    "    size_three.append(i.split('_')[2].split('-')[1])\n",
    "    length_three.append(len(i.split('_')[3]))\n",
    "    aa_seq_three.append(i.split('_')[3])\n",
    "    header_vdj_three.append(i.split('_')[4])"
   ]
  },
  {
   "cell_type": "code",
   "execution_count": 31,
   "metadata": {},
   "outputs": [],
   "source": [
    "v_region_three = [] \n",
    "d_region_three = []\n",
    "j_region_three = []\n",
    "for i in header_vdj_three:\n",
    "    v_region_three.append(i.split(',')[0])\n",
    "    d_region_three.append(i.split(',')[1])\n",
    "    j_region_three.append(i.split(',')[2])"
   ]
  },
  {
   "cell_type": "code",
   "execution_count": 34,
   "metadata": {},
   "outputs": [
    {
     "name": "stdout",
     "output_type": "stream",
     "text": [
      "234\n"
     ]
    }
   ],
   "source": [
    "v_gene_three = []\n",
    "for i in v_region_three:\n",
    "    if '*' in i:\n",
    "        v_gene_three.append(i.split('*')[0])\n",
    "    else:\n",
    "        v_gene_three.append(i)\n",
    "print(len(v_gene_three))"
   ]
  },
  {
   "cell_type": "code",
   "execution_count": 35,
   "metadata": {},
   "outputs": [
    {
     "name": "stdout",
     "output_type": "stream",
     "text": [
      "39\n",
      "20\n"
     ]
    }
   ],
   "source": [
    "V_uni_three = Counter(v_region_three)\n",
    "v_gene_uni_three = Counter(v_gene_three)\n",
    "print(len(V_uni_three))\n",
    "print(len(v_gene_uni_three))"
   ]
  },
  {
   "cell_type": "code",
   "execution_count": null,
   "metadata": {},
   "outputs": [],
   "source": []
  },
  {
   "cell_type": "markdown",
   "metadata": {},
   "source": [
    "### This next block is just so that I have list of the v region at each 3 time points"
   ]
  },
  {
   "cell_type": "code",
   "execution_count": 67,
   "metadata": {},
   "outputs": [],
   "source": [
    "V_time_one = []\n",
    "V_time_two = []\n",
    "V_time_three = []\n",
    "for i in time:\n",
    "    if i == int(7):\n",
    "        #print(v_region[i])\n",
    "        V_time_one.append(v_region[i])\n",
    "    elif i == int(9):\n",
    "        #print(v_region[i])\n",
    "        V_time_two.append(v_region[i])\n",
    "    elif i == int(11):\n",
    "        #print(v_region[i])\n",
    "        V_time_three.append(v_region[i])\n",
    "    else:\n",
    "        next\n",
    "#print(len(V_time_one))"
   ]
  },
  {
   "cell_type": "markdown",
   "metadata": {},
   "source": [
    "###  This is to change the value of the time to a string, this makes a difference in ggplot later on."
   ]
  },
  {
   "cell_type": "code",
   "execution_count": 75,
   "metadata": {},
   "outputs": [],
   "source": [
    "for index, value in enumerate(time):\n",
    "    if value == int(7):\n",
    "        time[index] = 'A'\n",
    "    elif value == int(9):\n",
    "        time[index] = 'B'\n",
    "    else:\n",
    "        time[index] = 'C'"
   ]
  },
  {
   "cell_type": "code",
   "execution_count": null,
   "metadata": {},
   "outputs": [],
   "source": []
  },
  {
   "cell_type": "markdown",
   "metadata": {},
   "source": [
    "### This will grab all the v genes we have collected, ie just the (V3-##) not the alleles"
   ]
  },
  {
   "cell_type": "code",
   "execution_count": 70,
   "metadata": {},
   "outputs": [
    {
     "name": "stdout",
     "output_type": "stream",
     "text": [
      "889\n"
     ]
    }
   ],
   "source": [
    "v_gene = []\n",
    "for i in v_region:\n",
    "    if '*' in i:\n",
    "        v_gene.append(i.split('*')[0])\n",
    "    else:\n",
    "        v_gene.append(i)\n",
    "print(len(v_gene))"
   ]
  },
  {
   "cell_type": "code",
   "execution_count": 71,
   "metadata": {},
   "outputs": [],
   "source": [
    "#v_region"
   ]
  },
  {
   "cell_type": "code",
   "execution_count": 77,
   "metadata": {},
   "outputs": [],
   "source": [
    "lines = zip(time, size, length, v_gene, v_region, aa_seq)"
   ]
  },
  {
   "cell_type": "code",
   "execution_count": 78,
   "metadata": {},
   "outputs": [],
   "source": [
    "with open('TSL7,9,11.tsv', 'w') as out:\n",
    "    out.write(\"{}\\t{}\\t{}\\t{}\\t{}\\t{}\\t{}\\n\".format('#', 'Time', 'Size', 'CDR3 Length (AA)','v_gene','v_region', 'A.A. Seq'))\n",
    "    for i, j in enumerate(lines):\n",
    "        out.write(\"{}\\t{}\\t{}\\t{}\\t{}\\t{}\\t{}\\n\".format( i+1, j[0], j[1], j[2], j[3],j[4],j[5]))"
   ]
  },
  {
   "cell_type": "code",
   "execution_count": 20,
   "metadata": {},
   "outputs": [],
   "source": [
    "import matplotlib.pyplot as plt\n",
    "import csv"
   ]
  },
  {
   "cell_type": "code",
   "execution_count": 21,
   "metadata": {},
   "outputs": [],
   "source": [
    "x1 = []\n",
    "y1 = []\n",
    "x2 = []\n",
    "y2 = []\n",
    "x3 = []\n",
    "y3 = []\n",
    "with open('TSL7,9,11.tsv','r') as tsvfile:\n",
    "    plots = list(csv.reader(tsvfile, delimiter='\\t'))\n",
    "    for row in plots[1:]:\n",
    "        #print(row[1])\n",
    "        if row[1] == 'Seven':\n",
    "            x1.append(int(row[3]))\n",
    "            y1.append(int(row[2]))\n",
    "        elif row[1] == 'Nine':\n",
    "            x2.append(int(row[3]))               \n",
    "            y2.append(int(row[2]))\n",
    "        elif row[1] == 'Eleven':\n",
    "            x3.append(int(row[3]))\n",
    "            y3.append(int(row[2]))\n",
    "        else:\n",
    "            next\n"
   ]
  },
  {
   "cell_type": "code",
   "execution_count": 15,
   "metadata": {},
   "outputs": [],
   "source": [
    "#fig = plt.figure()\n",
    "#ax1 = fig.add_subplot(111)\n",
    "\n",
    "#ax1.scatter(x1,y1,s= 7,c='r', label= 'one')\n",
    "#ax1.scatter(x2,y2,s=7,c='g', label= 'two')\n",
    "#ax1.scatter(x3,y3,s=7,c='b', label= 'three')\n",
    "#plt.legend(loc='upper right');\n",
    "#plt.show()"
   ]
  },
  {
   "cell_type": "code",
   "execution_count": null,
   "metadata": {},
   "outputs": [],
   "source": []
  },
  {
   "cell_type": "code",
   "execution_count": 67,
   "metadata": {},
   "outputs": [],
   "source": [
    "#print(iris)"
   ]
  },
  {
   "cell_type": "code",
   "execution_count": 23,
   "metadata": {},
   "outputs": [
    {
     "name": "stderr",
     "output_type": "stream",
     "text": [
      "/Users/jordanzehr/anaconda3/lib/python3.6/site-packages/matplotlib/axes/_axes.py:6462: UserWarning: The 'normed' kwarg is deprecated, and has been replaced by the 'density' kwarg.\n",
      "  warnings.warn(\"The 'normed' kwarg is deprecated, and has been \"\n"
     ]
    },
    {
     "data": {
      "image/png": "[encoded data removed]",
      "text/plain": [
       "<Figure size 360x360 with 4 Axes>"
      ]
     },
     "execution_count": 23,
     "metadata": {},
     "output_type": "execute_result"
    }
   ],
   "source": [
    "import seaborn as sns\n",
    "import matplotlib.pyplot as plt\n",
    "import matplotlib.gridspec as gridspec\n",
    "import matplotlib.patches as mpatches\n",
    "import pandas as pd\n",
    "import numpy as np\n",
    "\n",
    "sns.set_style('darkgrid')\n",
    "def jointplot_w_hue(data, x, y, hue=None, colormap = None, \n",
    "                    figsize = None, fig = None, scatter_kws=None):\n",
    "    #defaults\n",
    "    if colormap is None:\n",
    "        colormap = sns.color_palette() #['blue','orange']\n",
    "    if figsize is None:\n",
    "        figsize = (5,5)\n",
    "    if fig is None:\n",
    "        fig  = plt.figure(figsize = figsize)\n",
    "    if scatter_kws is None:\n",
    "        scatter_kws = dict(alpha=0.4, lw=1)\n",
    "        \n",
    "    # derived variables\n",
    "    if hue is None:\n",
    "        return \"use normal sns.jointplot\"\n",
    "    hue_groups = data[hue].unique()\n",
    "\n",
    "    subdata = dict()\n",
    "    colors = dict()\n",
    "    \n",
    "    active_colormap = colormap[0: len(hue_groups)]\n",
    "    legend_mapping = []\n",
    "    for hue_grp, color in zip(hue_groups, active_colormap):\n",
    "        legend_entry = mpatches.Patch(color=color, label=hue_grp)\n",
    "        legend_mapping.append(legend_entry)\n",
    "        \n",
    "        subdata[hue_grp] = data[data[hue]==hue_grp]\n",
    "        colors[hue_grp] = color\n",
    "        \n",
    "    # canvas setup\n",
    "    grid = gridspec.GridSpec(2, 2,\n",
    "                           width_ratios=[4, 1],\n",
    "                           height_ratios=[1, 4],\n",
    "                           hspace = 0, wspace = 0\n",
    "                           )\n",
    "    ax_main    = plt.subplot(grid[1,0])\n",
    "    ax_xhist   = plt.subplot(grid[0,0], sharex=ax_main)\n",
    "    ax_yhist   = plt.subplot(grid[1,1])#, sharey=ax_main)\n",
    "    \n",
    "    ## plotting\n",
    "   \n",
    "    # histplot x-axis\n",
    "    for hue_grp in hue_groups:\n",
    "        sns.distplot(subdata[hue_grp][x], color = colors[hue_grp]\n",
    "                     , ax = ax_xhist)\n",
    "\n",
    "    # histplot y-axis\n",
    "    for hue_grp in hue_groups:\n",
    "        sns.distplot(subdata[hue_grp][y], color = colors[hue_grp]\n",
    "                     , ax = ax_yhist, vertical=True) \n",
    "\n",
    "    # main scatterplot \n",
    "    # note: must be after the histplots else ax_yhist messes up\n",
    "    for hue_grp in hue_groups:\n",
    "        sns.regplot(data = subdata[hue_grp], fit_reg=False,\n",
    "                    x = x, y = y, ax = ax_main, color = colors[hue_grp]\n",
    "                    , scatter_kws=scatter_kws\n",
    "                   )        \n",
    "        \n",
    "    # despine\n",
    "    for myax in [ax_yhist, ax_xhist]:\n",
    "        sns.despine(ax = myax, bottom=False, top=True, left = False, right = True\n",
    "                    , trim = False)\n",
    "        plt.setp(myax.get_xticklabels(), visible=False)\n",
    "        plt.setp(myax.get_yticklabels(), visible=False)\n",
    "    \n",
    "    \n",
    "    # topright \n",
    "    ax_legend   = plt.subplot(grid[0,1])#, sharey=ax_main)\n",
    "    plt.setp(ax_legend.get_xticklabels(), visible=False)\n",
    "    plt.setp(ax_legend.get_yticklabels(), visible=False)\n",
    "\n",
    "    ax_legend.legend(handles=legend_mapping)\n",
    "    plt.savefig('IgG:7,9,11')\n",
    "    plt.close()\n",
    "    return dict(fig = fig, gridspec = grid)\n",
    "\n",
    "TSL = pd.read_csv('TSL7,9,11.tsv', sep='\\t')\n",
    "TSL['LogSize CloneFam'] = np.log(1+TSL.Size)\n",
    "jointplot_w_hue(data=TSL, x = 'CDR3 Length (AA)', y = 'LogSize CloneFam', hue = 'Time')['fig']\n"
   ]
  },
  {
   "cell_type": "code",
   "execution_count": 14,
   "metadata": {},
   "outputs": [],
   "source": [
    "#from plotnine import *\n",
    "#from plotnine.data import *\n",
    "#import numpy as np\n",
    "#import pandas as pd\n",
    "#from ggplot import *"
   ]
  },
  {
   "cell_type": "code",
   "execution_count": 13,
   "metadata": {},
   "outputs": [],
   "source": [
    "#TSL = pd.read_csv('TSL7,9,11.tsv', sep='\\t')\n",
    "#TSL['LogSize CloneFam'] = np.log(1+TSL.Size)\n",
    "#p = ggplot(TSL, aes(x='CDR3 Length (AA)', y='LogSize CloneFam', colour='Time')) +\\\n",
    "#           geom_point() +\\\n",
    "#           xlab(\"CDR3 Length (AA)\") +\\\n",
    "#           ylab(\"Size of Clone Family\") +\\\n",
    "#           ggtitle(\"(77612, IgG, all Staph) CDR3 Length (AA) vs Size of Clone Family\") \n",
    "\n",
    "#ggsave(plot = p, filename = 'ggplot:7,9,11.png')"
   ]
  },
  {
   "cell_type": "code",
   "execution_count": 12,
   "metadata": {},
   "outputs": [],
   "source": [
    "#ggplot(TSL, aes(x='LogSize CloneFam', fill='CDR3 Length (AA)', color = 'Time')) +\\\n",
    "#    stat_density()"
   ]
  },
  {
   "cell_type": "code",
   "execution_count": null,
   "metadata": {},
   "outputs": [],
   "source": [
    "\n"
   ]
  },
  {
   "cell_type": "code",
   "execution_count": null,
   "metadata": {},
   "outputs": [],
   "source": []
  }
 ],
 "metadata": {
  "kernelspec": {
   "display_name": "Python 3",
   "language": "python",
   "name": "python3"
  },
  "language_info": {
   "codemirror_mode": {
    "name": "ipython",
    "version": 3
   },
   "file_extension": ".py",
   "mimetype": "text/x-python",
   "name": "python",
   "nbconvert_exporter": "python",
   "pygments_lexer": "ipython3",
   "version": "3.6.5"
  }
 },
 "nbformat": 4,
 "nbformat_minor": 2
}
