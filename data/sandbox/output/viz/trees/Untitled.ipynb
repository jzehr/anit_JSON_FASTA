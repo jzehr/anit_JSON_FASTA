{
 "cells": [
  {
   "cell_type": "code",
   "execution_count": 2,
   "metadata": {},
   "outputs": [],
   "source": [
    "from ete3 import Tree, faces, AttrFace, TreeStyle, NodeStyle"
   ]
  },
  {
   "cell_type": "code",
   "execution_count": null,
   "metadata": {},
   "outputs": [],
   "source": [
    "def layout(node):\n",
    "    if node.is_leaf():\n",
    "        N = AttrFace(\"name\", fsize=30)\n",
    "        faces.add_face_to_node(N, node, 0, position=\"aligned\")\n",
    "\n",
    "def get_example_tree():\n",
    "\n",
    "    # Set dashed blue lines in all leaves\n",
    "    nst1 = NodeStyle()\n",
    "    nst1[\"bgcolor\"] = \"LightSteelBlue\"\n",
    "    nst2 = NodeStyle()\n",
    "    nst2[\"bgcolor\"] = \"Moccasin\"\n",
    "    nst3 = NodeStyle()\n",
    "    nst3[\"bgcolor\"] = \"DarkSeaGreen\"\n",
    "    nst4 = NodeStyle()\n",
    "    nst4[\"bgcolor\"] = \"Khaki\"\n",
    "\n",
    "\n",
    "    t = Tree(\"((((a1,a2),a3), ((b1,b2),(b3,b4))), ((c1,c2),c3));\")\n",
    "    for n in t.traverse():\n",
    "        n.dist = 0\n",
    "\n",
    "    n1 = t.get_common_ancestor(\"a1\", \"a2\", \"a3\")\n",
    "    n1.set_style(nst1)\n",
    "    n2 = t.get_common_ancestor(\"b1\", \"b2\", \"b3\", \"b4\")\n",
    "    n2.set_style(nst2)\n",
    "    n3 = t.get_common_ancestor(\"c1\", \"c2\", \"c3\")\n",
    "    n3.set_style(nst3)\n",
    "    n4 = t.get_common_ancestor(\"b3\", \"b4\")\n",
    "    n4.set_style(nst4)\n",
    "    ts = TreeStyle()\n",
    "    ts.layout_fn = layout\n",
    "    ts.show_leaf_name = False\n",
    "\n",
    "    ts.mode = \"c\"\n",
    "    ts.root_opening_factor = 1\n",
    "    return t, ts\n",
    "\n",
    "if __name__ == \"__main__\":\n",
    "    t, ts = get_example_tree()\n",
    "    #t.render(\"node_background.png\", w=400, tree_style=ts)\n",
    "    t.show(tree_style=ts)"
   ]
  },
  {
   "cell_type": "code",
   "execution_count": null,
   "metadata": {},
   "outputs": [],
   "source": []
  },
  {
   "cell_type": "code",
   "execution_count": null,
   "metadata": {},
   "outputs": [],
   "source": []
  }
 ],
 "metadata": {
  "kernelspec": {
   "display_name": "Python 3",
   "language": "python",
   "name": "python3"
  }
 },
 "nbformat": 4,
 "nbformat_minor": 2
}
