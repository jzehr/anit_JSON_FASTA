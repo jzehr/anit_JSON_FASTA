{
 "cells": [
  {
   "cell_type": "code",
   "execution_count": 1,
   "metadata": {},
   "outputs": [],
   "source": [
    "from Bio import SeqIO"
   ]
  },
  {
   "cell_type": "code",
   "execution_count": 49,
   "metadata": {},
   "outputs": [],
   "source": [
    "# 7,9,11\n",
    "header = []\n",
    "sequence = []\n",
    "head7V7 = []\n",
    "head9V7 = []\n",
    "head11V7 = []\n",
    "seq7V7 = []\n",
    "seq9V7 = []\n",
    "seq11V7 = []\n",
    "#bad = []"
   ]
  },
  {
   "cell_type": "code",
   "execution_count": 50,
   "metadata": {},
   "outputs": [],
   "source": [
    "def fasta_reader(title,fasta_self):\n",
    "    for i,record in enumerate(SeqIO.parse(fasta_self,'fasta')):\n",
    "        header.append(record.id)\n",
    "        sequence.append(str(record.seq))\n",
    "        if 'time-7' in record.id and 'V7' in record.id:\n",
    "            head7V7.append(record.id)\n",
    "            seq7V7.append(sequence[i])\n",
    "        elif 'time-9' in record.id and 'V7' in record.id:\n",
    "            head9V7.append(record.id)\n",
    "            seq9V7.append(sequence[i])\n",
    "        elif 'time-11' in record.id and 'V7' in record.id:\n",
    "            head11V7.append(record.id)\n",
    "            seq11V7.append(sequence[i])\n",
    "        else:\n",
    "            next\n",
    "            #bad.append(record.id)\n"
   ]
  },
  {
   "cell_type": "code",
   "execution_count": 51,
   "metadata": {},
   "outputs": [],
   "source": [
    "t = 'full_clone_size-30_unaligned.fasta' \n",
    "fasta_reader(t,'full_clone_size-30_unaligned.fasta')"
   ]
  },
  {
   "cell_type": "code",
   "execution_count": 52,
   "metadata": {},
   "outputs": [
    {
     "name": "stdout",
     "output_type": "stream",
     "text": [
      "4588\n",
      "0\n",
      "0\n",
      "1\n",
      "0\n",
      "0\n",
      "1\n"
     ]
    }
   ],
   "source": [
    "print(len(header))\n",
    "print(len(head7V7))\n",
    "print(len(head9V7))\n",
    "print(len(head11V7))\n",
    "print(len(seq7V7))\n",
    "print(len(seq9V7))\n",
    "print(len(seq11V7))\n",
    "#print(len(bad))\n",
    "#j = len(bad)+len(header1) + len(header2) +len(header3)+len(header4)+len(header5)+len(header6)+len(header7)+len(headerV)\n",
    "#print(j)"
   ]
  },
  {
   "cell_type": "markdown",
   "metadata": {},
   "source": [
    "### 1246 total in this fasta"
   ]
  },
  {
   "cell_type": "code",
   "execution_count": 53,
   "metadata": {},
   "outputs": [],
   "source": [
    "def v_writer(L1,L2,s):\n",
    "    if not L1:\n",
    "        print('this list is empty')\n",
    "        return\n",
    "    else:\n",
    "        v = str(L1[0].split('_')[4].split(',')[0].split('-')[0])\n",
    "        print('L1 is',v)\n",
    "    lines = zip(L1,L2)\n",
    "    #testString = str(v + \".fasta\")\n",
    "    #print(testString)\n",
    "    out_path = str(v + '_'+s +'.fasta')\n",
    "    with open(out_path,'w') as out:\n",
    "        for i, j in enumerate(lines):\n",
    "            out.write('{}\\n{}\\n'.format('>' + j[0], j[1]))"
   ]
  },
  {
   "cell_type": "code",
   "execution_count": 54,
   "metadata": {},
   "outputs": [
    {
     "name": "stdout",
     "output_type": "stream",
     "text": [
      "this list is empty\n",
      "this list is empty\n",
      "L1 is V7\n"
     ]
    }
   ],
   "source": [
    "#head4V4 = []\n",
    "#head6V4 = []\n",
    "#head8V4 = []\n",
    "#seq4V4 = []\n",
    "#seq6V4 = []\n",
    "#seq8V4 = []\n",
    "\n",
    "v_writer(head7V7,seq7V7,'7')\n",
    "v_writer(head9V7,seq9V7,'9')\n",
    "v_writer(head11V7,seq11V7,'11')\n"
   ]
  },
  {
   "cell_type": "code",
   "execution_count": null,
   "metadata": {},
   "outputs": [],
   "source": [
    "#print(len(header1))\n",
    "#print(len(header2))\n",
    "#print(len(header3))\n",
    "#print(len(header4))\n",
    "#print(len(header5))\n",
    "#print(len(header6))\n",
    "#print(len(header7))\n",
    "#print(len(headerV))"
   ]
  },
  {
   "cell_type": "code",
   "execution_count": null,
   "metadata": {},
   "outputs": [],
   "source": [
    "#header2 = []\n",
    "#seq2 = []\n",
    "#header3 = []\n",
    "#seq3 = []\n",
    "#header4 = []\n",
    "#seq4 = []\n",
    "#header5 = []\n",
    "#seq5 = []\n",
    "#header6 = []\n",
    "#seq6 = []\n",
    "#header7 = []\n",
    "#seq7 = []\n",
    "#headerV = []\n",
    "#seqV = []"
   ]
  },
  {
   "cell_type": "code",
   "execution_count": null,
   "metadata": {},
   "outputs": [],
   "source": [
    "        #elif 'V2' in record.id:\n",
    "         #   header2.append(record.id)\n",
    "         #   seq2.append(sequence[i])\n",
    "        #elif 'V3' in record.id:\n",
    "         #   header3.append(record.id)\n",
    "          #  seq3.append(sequence[i])\n",
    "        #elif 'V4' in record.id:\n",
    "         #   header4.append(record.id)\n",
    "          #  seq4.append(sequence[i])\n",
    "        #elif 'V5' in record.id:\n",
    "         #   header5.append(record.id)\n",
    "          #  seq5.append(sequence[i])\n",
    "        #elif 'V6' in record.id:\n",
    "           # header6.append(record.id)\n",
    "           # seq6.append(sequence[i])\n",
    "        #elif 'V7' in record.id:\n",
    "         #   header7.append(record.id)\n",
    "         #   seq7.append(sequence[i])\n",
    "        #elif 'V,' in record.id:\n",
    "         #   headerV.append(record.id)\n",
    "          #  seqV.append(sequence[i])"
   ]
  }
 ],
 "metadata": {
  "kernelspec": {
   "display_name": "Python 3",
   "language": "python",
   "name": "python3"
  },
  "language_info": {
   "codemirror_mode": {
    "name": "ipython",
    "version": 3
   },
   "file_extension": ".py",
   "mimetype": "text/x-python",
   "name": "python",
   "nbconvert_exporter": "python",
   "pygments_lexer": "ipython3",
   "version": "3.6.5"
  }
 },
 "nbformat": 4,
 "nbformat_minor": 2
}
