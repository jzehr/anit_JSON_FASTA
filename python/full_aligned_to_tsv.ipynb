{
 "cells": [
  {
   "cell_type": "code",
   "execution_count": 1,
   "metadata": {},
   "outputs": [],
   "source": [
    "from Bio import SeqIO"
   ]
  },
  {
   "cell_type": "code",
   "execution_count": 6,
   "metadata": {},
   "outputs": [],
   "source": [
    "header = []\n",
    "seq = []\n",
    "for record in SeqIO.parse('full_aligned.fasta', 'fasta'):\n",
    "    header.append(record.id)\n",
    "    seq.append(str(record.seq))\n",
    "    #print(record.id)"
   ]
  },
  {
   "cell_type": "code",
   "execution_count": 7,
   "metadata": {},
   "outputs": [],
   "source": [
    "length = []\n",
    "size = []\n",
    "aa_seq = []\n",
    "for i in header:\n",
    "    length.append(len(i.split('_')[3]))\n",
    "    size.append(i.split('_')[2].split('-')[1])\n",
    "    aa_seq.append(i.split('_')[3])\n",
    "#print(length) # these are all ints for now, until str later\n",
    "#print(len(size))\n",
    "#print(len(aa_seq))\n",
    "#print(size) # these are all strings\n",
    "#print(aa_seq) these are all strings"
   ]
  },
  {
   "cell_type": "markdown",
   "metadata": {},
   "source": [
    "##### seq13_time-7_size-40_TRGSRTYESGGSACD_V1,J3*02,CG3*17_250717"
   ]
  },
  {
   "cell_type": "code",
   "execution_count": 8,
   "metadata": {},
   "outputs": [],
   "source": [
    "time = []\n",
    "vdj = []\n",
    "\n",
    "for i in header:\n",
    "    time.append(int(i.split('_')[1].split('-')[1]))\n",
    "    vdj.append(i.split('_')[4])\n",
    "\n",
    "v_gene_full = []\n",
    "for i in vdj:\n",
    "    v_gene_full.append(i.split(',')[0])\n",
    "\n",
    "v_gene = []\n",
    "for i in v_gene_full:\n",
    "    if '*' in i:\n",
    "        v_gene.append(i.split('*')[0])\n",
    "    else:\n",
    "        v_gene.append(i)\n",
    "\n",
    "just_v = []\n",
    "for i in v_gene:\n",
    "    #print(i)\n",
    "    just_v.append(i.split('-')[0])\n",
    "    "
   ]
  },
  {
   "cell_type": "markdown",
   "metadata": {},
   "source": [
    "### sanity check session"
   ]
  },
  {
   "cell_type": "code",
   "execution_count": null,
   "metadata": {},
   "outputs": [],
   "source": [
    "#print(len(time))\n",
    "#print(len(v_full))\n",
    "#print(len(v_gene_full))\n",
    "#print(len(v_gene))\n",
    "#print(len(seq))\n",
    "#for i in vdj[0:2]:\n",
    "#    print(i)\n",
    "#for i in v_gene[0:20]:\n",
    "#    print(i)"
   ]
  },
  {
   "cell_type": "markdown",
   "metadata": {},
   "source": [
    "### we have: v full, v genes, time, aa seqs, size and length of aa seqs"
   ]
  },
  {
   "cell_type": "markdown",
   "metadata": {},
   "source": [
    "### this will change the time ints from previous to strings. this is helpful downstream in R"
   ]
  },
  {
   "cell_type": "code",
   "execution_count": 5,
   "metadata": {},
   "outputs": [],
   "source": [
    "for index, value in enumerate(time):\n",
    "    if value == int(7):\n",
    "        time[index] = 'Visit:1a'\n",
    "    elif value == int(8):\n",
    "        time[index] = 'Visit:1b'\n",
    "    elif value == int(9):\n",
    "        time[index] = 'Visit:2a'\n",
    "    elif value == int(10):\n",
    "        time[index] = 'Visit:2b'\n",
    "    elif value == int(11):\n",
    "        time[index] = 'Visit:3a'\n",
    "    else:\n",
    "        time[index] = 'Visit:3b'"
   ]
  },
  {
   "cell_type": "code",
   "execution_count": 9,
   "metadata": {},
   "outputs": [],
   "source": [
    "lines = zip(time, size, length,just_v, v_gene, v_gene_full, aa_seq)"
   ]
  },
  {
   "cell_type": "code",
   "execution_count": 10,
   "metadata": {},
   "outputs": [],
   "source": [
    "with open('77612_master.tsv', 'w') as out:\n",
    "    out.write(\"{}\\t{}\\t{}\\t{}\\t{}\\t{}\\t{}\\t{}\\n\".format('#', 'Time', 'Size', 'CDR3 Length (AA)','V','V_gene','Full_V-gene', 'A.A. Seq'))\n",
    "    for i, j in enumerate(lines):\n",
    "        out.write(\"{}\\t{}\\t{}\\t{}\\t{}\\t{}\\t{}\\t{}\\n\".format( i+1, j[0], j[1], j[2], j[3],j[4],j[5],j[6]))"
   ]
  },
  {
   "cell_type": "code",
   "execution_count": null,
   "metadata": {},
   "outputs": [],
   "source": []
  }
 ],
 "metadata": {
  "kernelspec": {
   "display_name": "Python 3",
   "language": "python",
   "name": "python3"
  },
  "language_info": {
   "codemirror_mode": {
    "name": "ipython",
    "version": 3
   },
   "file_extension": ".py",
   "mimetype": "text/x-python",
   "name": "python",
   "nbconvert_exporter": "python",
   "pygments_lexer": "ipython3",
   "version": "3.6.5"
  }
 },
 "nbformat": 4,
 "nbformat_minor": 2
}
